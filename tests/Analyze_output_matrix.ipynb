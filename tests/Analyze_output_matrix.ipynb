{
 "cells": [
  {
   "cell_type": "code",
   "execution_count": 1,
   "metadata": {},
   "outputs": [],
   "source": [
    "import numpy as np\n",
    "\n",
    "folder =\"/home/marcnol/grey/ProcessedData_2024/Experiment_75_David_DNAFISH_HiM_HRKit_G1E_20240708/000/\"\n",
    "\n",
    "file = folder + \"mask_3d/data/scan_002_mask0_000_ROI_converted_decon_ch01_3Dmasks_filtered_z_I.npy\"\n",
    "\n",
    "im = np.load(file)\n"
   ]
  },
  {
   "cell_type": "code",
   "execution_count": 5,
   "metadata": {},
   "outputs": [
    {
     "name": "stdout",
     "output_type": "stream",
     "text": [
      "[[0 0 0 ... 0 0 0]\n",
      " [0 0 0 ... 0 0 0]\n",
      " [0 0 0 ... 0 0 0]\n",
      " ...\n",
      " [0 0 0 ... 0 0 0]\n",
      " [0 0 0 ... 0 0 0]\n",
      " [0 0 0 ... 0 0 0]]\n",
      "252\n"
     ]
    }
   ],
   "source": [
    "print(im[10,1024:1124,1024:1124])\n",
    "print(np.max(im))"
   ]
  }
 ],
 "metadata": {
  "kernelspec": {
   "display_name": "pyHiM39",
   "language": "python",
   "name": "python3"
  },
  "language_info": {
   "codemirror_mode": {
    "name": "ipython",
    "version": 3
   },
   "file_extension": ".py",
   "mimetype": "text/x-python",
   "name": "python",
   "nbconvert_exporter": "python",
   "pygments_lexer": "ipython3",
   "version": "3.10.14"
  }
 },
 "nbformat": 4,
 "nbformat_minor": 2
}
