{
 "cells": [
  {
   "cell_type": "code",
   "execution_count": 1,
   "metadata": {},
   "outputs": [
    {
     "name": "stdout",
     "output_type": "stream",
     "text": [
      "$ scmatrix shape: (25, 25, 37250)\n",
      "$ unique barcodes loaded: [1, 2, 3, 7, 8, 9, 10, 11, 12, 13, 14, 15, 16, 17, 18, 19, 20, 21, 23, 24, 26, 27, 28, 639, 708]\n"
     ]
    }
   ],
   "source": [
    "import os\n",
    "import numpy as np\n",
    "from tqdm import trange\n",
    "from scipy.stats import bootstrap\n",
    "rng = np.random.default_rng()\n",
    "\n",
    "path='/mnt/disk2/marcnol/Gdrive/papers/2025_Bardou/data/flybrain_trace_files/raw_matrices'\n",
    "file='combined_not_OK107_KC_ABp_rep1_Matrix_PWDscMatrix.npy'\n",
    "uniquebarcodes='combined_all_traces_KC_G_Matrix_uniqueBarcodes.ecsv'\n",
    "\n",
    "sc_matrix=np.load(path+os.sep+file)\n",
    "print(f\"$ scmatrix shape: {sc_matrix.shape}\")\n",
    "\n",
    "uniqueBarcodes = list(np.loadtxt(path+os.sep+uniquebarcodes, delimiter=\" \"))\n",
    "uniqueBarcodes = [int(x) for x in uniqueBarcodes]\n",
    "print(f\"$ unique barcodes loaded: {uniqueBarcodes}\")\n"
   ]
  },
  {
   "cell_type": "code",
   "execution_count": 2,
   "metadata": {},
   "outputs": [
    {
     "name": "stdout",
     "output_type": "stream",
     "text": [
      "$ n bins: 25\n"
     ]
    },
    {
     "name": "stderr",
     "output_type": "stream",
     "text": [
      "100%|██████████| 25/25 [00:02<00:00, 10.64it/s]"
     ]
    },
    {
     "name": "stdout",
     "output_type": "stream",
     "text": [
      "$ mean_bs = (25, 25)\n"
     ]
    },
    {
     "name": "stderr",
     "output_type": "stream",
     "text": [
      "\n"
     ]
    }
   ],
   "source": [
    "def bootstrapping(x,N_bootstrap=9999):\n",
    "    data = (x,)  # samples must be in a sequence\n",
    "    \n",
    "    res = bootstrap(data, np.mean, confidence_level=0.9,\n",
    "                    n_resamples=N_bootstrap,\n",
    "                    batch = None,\n",
    "                    random_state=rng)\n",
    "    \n",
    "    return res.bootstrap_distribution\n",
    "\n",
    "\n",
    "def bootstraps_matrix(m,N_bootstrap=9999):\n",
    "    n_bins = m.shape[0]\n",
    "    mean_bs = np.zeros((n_bins,n_bins))\n",
    "    mean_error = np.zeros((n_bins,n_bins))\n",
    "    print(f\"$ n bins: {n_bins}\")    \n",
    "    \n",
    "    for i in trange(n_bins):\n",
    "        for j in range(i+1,n_bins):\n",
    "            if i != j:\n",
    "                # gets distribution and removes nans\n",
    "                x = m[i,j,:]\n",
    "                x = x[~np.isnan(x)]\n",
    "                \n",
    "                # bootstraps distribution\n",
    "                bs = bootstrapping(x,N_bootstrap=N_bootstrap)\n",
    " \n",
    "                # gets mean and std of mean\n",
    "                mean_bs[i,j] = np.median(bs)\n",
    "                mean_error[i,j] = np.std(bs)\n",
    "                \n",
    "                # symmetrizes matrix\n",
    "                mean_bs[j,i] = mean_bs[i,j]\n",
    "                mean_error[j,i] = np.std(bs)\n",
    "\n",
    "    for i in range(n_bins):\n",
    "        mean_bs[i,i], mean_error[i,i] = np.nan, np.nan\n",
    "                \n",
    "    return mean_bs, mean_error\n",
    "\n",
    "N_bootstrap=100\n",
    "mean_bs, mean_error = bootstraps_matrix(\n",
    "    sc_matrix, N_bootstrap=N_bootstrap\n",
    ")\n",
    "print(f\"$ mean_bs = {mean_bs.shape}\")\n"
   ]
  }
 ],
 "metadata": {
  "kernelspec": {
   "display_name": "Python 3",
   "language": "python",
   "name": "python3"
  },
  "language_info": {
   "codemirror_mode": {
    "name": "ipython",
    "version": 3
   },
   "file_extension": ".py",
   "mimetype": "text/x-python",
   "name": "python",
   "nbconvert_exporter": "python",
   "pygments_lexer": "ipython3",
   "version": "3.13.2"
  }
 },
 "nbformat": 4,
 "nbformat_minor": 2
}
